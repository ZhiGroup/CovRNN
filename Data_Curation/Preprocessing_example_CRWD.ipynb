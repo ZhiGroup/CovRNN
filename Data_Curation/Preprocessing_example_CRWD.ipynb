{
 "cells": [
  {
   "cell_type": "markdown",
   "metadata": {},
   "source": [
    "# Data Preprocessing Example"
   ]
  },
  {
   "cell_type": "code",
   "execution_count": 1,
   "metadata": {},
   "outputs": [
    {
     "data": {
      "text/html": [
       "        <script type=\"text/javascript\">\n",
       "        window.PlotlyConfig = {MathJaxConfig: 'local'};\n",
       "        if (window.MathJax) {MathJax.Hub.Config({SVG: {font: \"STIX-Web\"}});}\n",
       "        if (typeof require !== 'undefined') {\n",
       "        require.undef(\"plotly\");\n",
       "        requirejs.config({\n",
       "            paths: {\n",
       "                'plotly': ['https://cdn.plot.ly/plotly-latest.min']\n",
       "            }\n",
       "        });\n",
       "        require(['plotly'], function(Plotly) {\n",
       "            window._Plotly = Plotly;\n",
       "        });\n",
       "        }\n",
       "        </script>\n",
       "        "
      ]
     },
     "metadata": {},
     "output_type": "display_data"
    }
   ],
   "source": [
    "### Tools and Packages\n",
    "##Basics\n",
    "import pandas as pd\n",
    "import numpy as np\n",
    "import sys, random\n",
    "import math\n",
    "try:\n",
    "    import cPickle as pickle\n",
    "except:\n",
    "    import pickle\n"
   ]
  },
  {
   "cell_type": "markdown",
   "metadata": {},
   "source": [
    "## Data Preprocessing"
   ]
  },
  {
   "cell_type": "code",
   "execution_count": null,
   "metadata": {},
   "outputs": [],
   "source": [
    "!python data_preprocessing_v4.py LR_inhospDec_dmlpd_all_dat.csv LR_inhospDec_dmlpd_all_labelv1.csv NA pdata/lr_inhosp_outcome_pred_v1 NA\n",
    "\n"
   ]
  },
  {
   "cell_type": "markdown",
   "metadata": {},
   "source": [
    "#### Example Data Loading and Preparation"
   ]
  },
  {
   "cell_type": "code",
   "execution_count": 2,
   "metadata": {},
   "outputs": [],
   "source": [
    "### A sample data named Cohort 11, this is preprocessed data \n",
    "\n",
    "train_sl_1= pickle.load(open('pdata/lr_inhosp_outcome_pred_v1.combined.train', 'rb'),encoding='bytes')\n",
    "test_sl_1= pickle.load(open('pdata/lr_inhosp_outcome_pred_v1.combined.test', 'rb'), encoding='bytes')\n",
    "valid_sl_1= pickle.load(open('pdata/lr_inhosp_outcome_pred_v1.combined.valid', 'rb'), encoding='bytes')\n",
    "# types dictionary\n",
    "types_d=pickle.load(open('pdata/lr_inhosp_outcome_pred_v1.types', 'rb'), encoding='bytes')\n",
    "types_d_rev = dict(zip(types_d.values(),types_d.keys()))\n",
    "input_size_1=[max(types_d_rev.keys())+1]\n"
   ]
  },
  {
   "cell_type": "code",
   "execution_count": 3,
   "metadata": {},
   "outputs": [],
   "source": [
    "def separate_pts_hosps(datasets,hosp1,hosp2):\n",
    "    new_sets=[]\n",
    "    hosp1_set=[]\n",
    "    hosp2_set=[]\n",
    "    for data_set in datasets:\n",
    "        new_set=[]\n",
    "        for x in data_set:\n",
    "            if (x[0] in hosp1 ): hosp1_set.append(x)\n",
    "            elif (x[0] in hosp2 ): hosp2_set.append(x)\n",
    "            else: new_set.append(x)\n",
    "        new_sets.append(new_set)\n",
    "    \n",
    "    return  new_sets, hosp1_set, hosp2_set\n",
    "\n",
    "hosp1=pickle.load(open('../../hosp87.pts', 'rb'), encoding='bytes')\n",
    "hosp2=pickle.load(open('../../hosp41.pts', 'rb'), encoding='bytes')\n",
    "\n",
    "[train_sl,valid_sl,test_sl],hosp1_set, hosp2_set= separate_pts_hosps([train_sl_1,valid_sl_1,test_sl_1],hosp1,hosp2)"
   ]
  },
  {
   "cell_type": "code",
   "execution_count": 4,
   "metadata": {},
   "outputs": [
    {
     "name": "stdout",
     "output_type": "stream",
     "text": [
      "173572 24796 49592\n",
      "170626 24378 48781\n",
      "3469 706\n",
      "[123642]\n"
     ]
    }
   ],
   "source": [
    "print (len(train_sl_1),len(valid_sl_1),len(test_sl_1))\n",
    "\n",
    "print (len(train_sl),len(valid_sl),len(test_sl))\n",
    "print (len(hosp1_set),len(hosp2_set))\n",
    "\n",
    "print(input_size_1)"
   ]
  }
 ],
 "metadata": {
  "kernelspec": {
   "display_name": "Python 3",
   "language": "python",
   "name": "python3"
  },
  "language_info": {
   "codemirror_mode": {
    "name": "ipython",
    "version": 3
   },
   "file_extension": ".py",
   "mimetype": "text/x-python",
   "name": "python",
   "nbconvert_exporter": "python",
   "pygments_lexer": "ipython3",
   "version": "3.8.3"
  }
 },
 "nbformat": 4,
 "nbformat_minor": 2
}
